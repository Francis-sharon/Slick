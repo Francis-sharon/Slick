{
  "nbformat": 4,
  "nbformat_minor": 0,
  "metadata": {
    "colab": {
      "provenance": []
    },
    "kernelspec": {
      "name": "python3",
      "display_name": "Python 3"
    },
    "language_info": {
      "name": "python"
    }
  },
  "cells": [
    {
      "cell_type": "code",
      "execution_count": 30,
      "metadata": {
        "colab": {
          "base_uri": "https://localhost:8080/",
          "height": 646
        },
        "id": "M5pbb49ztAs8",
        "outputId": "91d4d58c-e0dc-45e2-f1f1-8463ec45eb34"
      },
      "outputs": [
        {
          "output_type": "stream",
          "name": "stdout",
          "text": [
            "Running Gradio in a Colab notebook requires sharing enabled. Automatically setting `share=True` (you can turn this off by setting `share=False` in `launch()` explicitly).\n",
            "\n",
            "Colab notebook detected. To show errors in colab notebook, set debug=True in launch()\n",
            "* Running on public URL: https://f06e99de90b71a9679.gradio.live\n",
            "\n",
            "This share link expires in 72 hours. For free permanent hosting and GPU upgrades, run `gradio deploy` from the terminal in the working directory to deploy to Hugging Face Spaces (https://huggingface.co/spaces)\n"
          ]
        },
        {
          "output_type": "display_data",
          "data": {
            "text/plain": [
              "<IPython.core.display.HTML object>"
            ],
            "text/html": [
              "<div><iframe src=\"https://f06e99de90b71a9679.gradio.live\" width=\"100%\" height=\"500\" allow=\"autoplay; camera; microphone; clipboard-read; clipboard-write;\" frameborder=\"0\" allowfullscreen></iframe></div>"
            ]
          },
          "metadata": {}
        },
        {
          "output_type": "execute_result",
          "data": {
            "text/plain": []
          },
          "metadata": {},
          "execution_count": 30
        }
      ],
      "source": [
        "import gradio as gr\n",
        "\n",
        "# Global dictionary to track user orders\n",
        "user_orders = {}\n",
        "\n",
        "# Food menu dictionary\n",
        "food_menu = {\n",
        "    \"Italian\": [\"Pizza\", \"Pasta\", \"Lasagna\", \"Garlic Bread\"],\n",
        "    \"American\": [\"Burger\", \"Fries\", \"Milkshake\", \"Hotdog\"],\n",
        "    \"Asian\": [\"Sushi\", \"Ramen\", \"Spring Rolls\", \"Dim Sum\"],\n",
        "    \"Vegetarian\": [\"Salad\", \"Vegetable Stir Fry\", \"Vegetarian Pizza\", \"Falafel\"],\n",
        "}\n",
        "\n",
        "def update_food_items(cuisine_choice):\n",
        "    \"\"\"Update food items based on cuisine selection\"\"\"\n",
        "    choices = food_menu.get(cuisine_choice, [])\n",
        "    if not choices:\n",
        "        choices = [\"Select Item\"]\n",
        "    return gr.update(choices=choices, value=choices[0] if choices else None)\n",
        "\n",
        "def recommend_items(selected_item, order_history):\n",
        "    \"\"\"Recommends items based on selected item and user's order history\"\"\"\n",
        "    recommendations = {\n",
        "        \"Burger\": [\"Fries\", \"Milkshake\", \"Pizza\"],\n",
        "        \"Pizza\": [\"Garlic Bread\", \"Salad\", \"Pasta\"],\n",
        "        \"Pasta\": [\"Garlic Bread\", \"Pizza\", \"Salad\"],\n",
        "        \"Salad\": [\"Soup\", \"Pasta\", \"Bread\"],\n",
        "        \"Sushi\": [\"Ramen\", \"Spring Rolls\", \"Dim Sum\"],\n",
        "        \"Ramen\": [\"Spring Rolls\", \"Dim Sum\", \"Fried Rice\"],\n",
        "        \"Lasagna\": [\"Garlic Bread\", \"Salad\", \"Pasta\"],\n",
        "        \"Fries\": [\"Burger\", \"Milkshake\", \"Pizza\"],\n",
        "    }\n",
        "\n",
        "    recommended = recommendations.get(selected_item, [\"Water\", \"Fries\", \"Salad\"])\n",
        "    additional = [item for item in recommendations if item not in order_history]\n",
        "    return recommended[:3]\n",
        "\n",
        "def place_order(name, cuisine, item, quantity):\n",
        "    \"\"\"Process the food order with recommendations\"\"\"\n",
        "    if not name:\n",
        "        return \"Please enter your name in the profile tab before ordering.\"\n",
        "    if not cuisine or not item or item == \"Select Item\":\n",
        "        return \"Please select both cuisine and food item.\"\n",
        "    if quantity <= 0:\n",
        "        return \"Please select a valid quantity.\"\n",
        "\n",
        "    # Track the order\n",
        "    if name not in user_orders:\n",
        "        user_orders[name] = []\n",
        "    user_orders[name].append(item)\n",
        "\n",
        "    # Generate recommendations\n",
        "    recommendations = recommend_items(item, user_orders[name])\n",
        "\n",
        "    order_message = f\"Order placed: {quantity} {item}(s) from {cuisine} cuisine for {name}\"\n",
        "    recommender_message = f\"\\n\\nBased on your order, you might also like: {', '.join(recommendations)}\"\n",
        "\n",
        "    return order_message + recommender_message\n",
        "\n",
        "def get_popular_items():\n",
        "    \"\"\"Return popular items with personalized recommendations\"\"\"\n",
        "    base_recommendations = [\n",
        "        \"Pizza (Italian)\",\n",
        "        \"Burger (American)\",\n",
        "        \"Sushi (Asian)\",\n",
        "        \"Salad (Vegetarian)\"\n",
        "    ]\n",
        "    return \"Our most popular items:\\n\" + \"\\n\".join(base_recommendations)\n",
        "\n",
        "# Create the Gradio app\n",
        "with gr.Blocks(css=\".gradio-container {background: #eaf4fb;}\") as app:\n",
        "    gr.Markdown(\"<h1 style='color: #1f4e79;'>SLICK FOOD ORDERS</h1>\")\n",
        "\n",
        "    with gr.Tabs():\n",
        "        # Profile Tab\n",
        "        with gr.TabItem(\"Profile\"):\n",
        "            name = gr.Textbox(label=\"Name\", placeholder=\"Enter your name\")\n",
        "            email = gr.Textbox(label=\"Email\", placeholder=\"Enter your email\")\n",
        "            contact = gr.Textbox(label=\"Contact\", placeholder=\"Enter your contact number\")\n",
        "\n",
        "            profile_output = gr.Textbox(label=\"Profile Status\")\n",
        "            gr.Button(\"Save Profile\").click(\n",
        "                lambda n, e, c: f\"Profile saved for {n}\" if n else \"Please enter name\",\n",
        "                inputs=[name, email, contact],\n",
        "                outputs=profile_output\n",
        "            )\n",
        "\n",
        "        # Order Food Tab\n",
        "        with gr.TabItem(\"Order Food\"):\n",
        "            gr.Markdown(\"Select a cuisine and food item below:\")\n",
        "\n",
        "            with gr.Row():\n",
        "                cuisine = gr.Dropdown(\n",
        "                    choices=list(food_menu.keys()),\n",
        "                    label=\"Cuisine\"\n",
        "                )\n",
        "                food_item = gr.Dropdown(\n",
        "                    choices=[\"Select Item\"],\n",
        "                    label=\"Food Item\"\n",
        "                )\n",
        "                quantity = gr.Number(label=\"Quantity\", value=1, minimum=1)\n",
        "\n",
        "            order_output = gr.Textbox(label=\"Order Confirmation\")\n",
        "\n",
        "            # Connect the update function for food items\n",
        "            cuisine.change(\n",
        "                fn=update_food_items,\n",
        "                inputs=cuisine,\n",
        "                outputs=food_item\n",
        "            )\n",
        "\n",
        "            # Connect the order button with recommendations\n",
        "            gr.Button(\"Place Order\").click(\n",
        "                fn=place_order,\n",
        "                inputs=[name, cuisine, food_item, quantity],\n",
        "                outputs=order_output\n",
        "            )\n",
        "\n",
        "        # Recommendations Tab\n",
        "        with gr.TabItem(\"Recommendations\"):\n",
        "            gr.Markdown(\"<h3>Popular Items:</h3>\")\n",
        "            recommended_items = gr.Textbox(\n",
        "                label=\"Recommended Items\",\n",
        "                value=\"Click 'Show Popular Items' to see recommendations\",\n",
        "                interactive=False\n",
        "            )\n",
        "\n",
        "            # Use a proper function for recommendations\n",
        "            gr.Button(\"Show Popular Items\").click(\n",
        "                fn=get_popular_items,\n",
        "                inputs=None,\n",
        "                outputs=recommended_items\n",
        "            )\n",
        "\n",
        "# Launch the app\n",
        "app.launch()"
      ]
    },
    {
      "cell_type": "code",
      "source": [
        "import gradio as gr\n",
        "\n",
        "# URL of the food ordering app\n",
        "FOOD_ORDERING_APP_URL = \"https://f06e99de90b71a9679.gradio.live/\"  # Replace with the actual app's URL\n",
        "\n",
        "# Simulated user database for login\n",
        "user_database = {\n",
        "    \"user1\": \"password123\",\n",
        "    \"admin\": \"adminpass\"\n",
        "}\n",
        "\n",
        "def login(username, password):\n",
        "    \"\"\"\n",
        "    Verifies the username and password.\n",
        "    Args:\n",
        "        username: Entered username.\n",
        "        password: Entered password.\n",
        "    Returns:\n",
        "        A message and visibility state for the Next button.\n",
        "    \"\"\"\n",
        "    if username in user_database and user_database[username] == password:\n",
        "        return (\n",
        "            \"Login successful! Click the link below to proceed.\",\n",
        "            f'<a href=\"{FOOD_ORDERING_APP_URL}\" target=\"_blank\" style=\"color:blue; text-decoration: underline;\">Next</a>',\n",
        "        )\n",
        "    return \"Invalid username or password. Please try again.\", \"\"\n",
        "\n",
        "# Create login interface\n",
        "with gr.Blocks() as login_app:\n",
        "    gr.Markdown(\"<h1 style='color: #1f4e79;'>Login to Access the Food Ordering App</h1>\")\n",
        "\n",
        "    with gr.Row():\n",
        "        username = gr.Textbox(label=\"Username\", placeholder=\"Enter your username\")\n",
        "        password = gr.Textbox(label=\"Password\", placeholder=\"Enter your password\", type=\"password\")\n",
        "\n",
        "    login_output = gr.Textbox(label=\"Login Status\", interactive=False)\n",
        "    next_link = gr.HTML(value=\"\", visible=True)  # Dynamic HTML link\n",
        "\n",
        "    # Handle login process\n",
        "    login_button = gr.Button(\"Login\")\n",
        "    login_button.click(\n",
        "        fn=login,\n",
        "        inputs=[username, password],\n",
        "        outputs=[login_output, next_link]\n",
        "    )\n",
        "\n",
        "    gr.Markdown(\"\"\"\n",
        "    <style>\n",
        "        body {background-color: #dceefc;}\n",
        "        .gradio-container {background: #ffffff; border-radius: 12px; box-shadow: 0 4px 10px rgba(0, 0, 0, 0.1);}\n",
        "        h1 {color: #2a6bbf; font-family: Arial, sans-serif;}\n",
        "    </style>\n",
        "    \"\"\")\n",
        "\n",
        "login_app.launch()\n"
      ],
      "metadata": {
        "colab": {
          "base_uri": "https://localhost:8080/",
          "height": 646
        },
        "id": "3ccAqn3zuVkO",
        "outputId": "f2af3deb-3542-4391-dedb-ff7484b715c6"
      },
      "execution_count": 31,
      "outputs": [
        {
          "output_type": "stream",
          "name": "stdout",
          "text": [
            "Running Gradio in a Colab notebook requires sharing enabled. Automatically setting `share=True` (you can turn this off by setting `share=False` in `launch()` explicitly).\n",
            "\n",
            "Colab notebook detected. To show errors in colab notebook, set debug=True in launch()\n",
            "* Running on public URL: https://d75bdeb8c425467804.gradio.live\n",
            "\n",
            "This share link expires in 72 hours. For free permanent hosting and GPU upgrades, run `gradio deploy` from the terminal in the working directory to deploy to Hugging Face Spaces (https://huggingface.co/spaces)\n"
          ]
        },
        {
          "output_type": "display_data",
          "data": {
            "text/plain": [
              "<IPython.core.display.HTML object>"
            ],
            "text/html": [
              "<div><iframe src=\"https://d75bdeb8c425467804.gradio.live\" width=\"100%\" height=\"500\" allow=\"autoplay; camera; microphone; clipboard-read; clipboard-write;\" frameborder=\"0\" allowfullscreen></iframe></div>"
            ]
          },
          "metadata": {}
        },
        {
          "output_type": "execute_result",
          "data": {
            "text/plain": []
          },
          "metadata": {},
          "execution_count": 31
        }
      ]
    }
  ]
}